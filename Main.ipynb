{
  "nbformat": 4,
  "nbformat_minor": 0,
  "metadata": {
    "colab": {
      "name": "Main.ipynb",
      "provenance": [],
      "authorship_tag": "ABX9TyPxUcgmSr4ekB6qi8ijHO+A",
      "include_colab_link": true
    },
    "kernelspec": {
      "name": "python3",
      "display_name": "Python 3"
    },
    "language_info": {
      "name": "python"
    }
  },
  "cells": [
    {
      "cell_type": "markdown",
      "metadata": {
        "id": "view-in-github",
        "colab_type": "text"
      },
      "source": [
        "<a href=\"https://colab.research.google.com/github/salsabeel-tn/One-Stage-One-Shot-Object-Detection-by-Matching-Anchor-Features/blob/master/Main.ipynb\" target=\"_parent\"><img src=\"https://colab.research.google.com/assets/colab-badge.svg\" alt=\"Open In Colab\"/></a>"
      ]
    },
    {
      "cell_type": "markdown",
      "source": [
        "# ***Introduction: Overview and description***"
      ],
      "metadata": {
        "id": "gZYirSMhonSr"
      }
    },
    {
      "cell_type": "markdown",
      "source": [
        ""
      ],
      "metadata": {
        "id": "hE8UXGHg_4CK"
      }
    },
    {
      "cell_type": "markdown",
      "source": [
        "# ***Explaratory Data Analysis (EDA)***\n"
      ],
      "metadata": {
        "id": "lnImAkfWrI2O"
      }
    },
    {
      "cell_type": "markdown",
      "source": [
        ""
      ],
      "metadata": {
        "id": "0J2Wn1wvrKHO"
      }
    },
    {
      "cell_type": "markdown",
      "source": [
        ""
      ],
      "metadata": {
        "id": "EPQTmHlBrLFe"
      }
    },
    {
      "cell_type": "markdown",
      "source": [
        ""
      ],
      "metadata": {
        "id": "i6nCPZOwrLbq"
      }
    },
    {
      "cell_type": "markdown",
      "source": [
        ""
      ],
      "metadata": {
        "id": "GGUBh0yurLsL"
      }
    },
    {
      "cell_type": "markdown",
      "source": [
        "# ***Train***\n"
      ],
      "metadata": {
        "id": "iQMfY6aE-iov"
      }
    },
    {
      "cell_type": "code",
      "source": [
        ""
      ],
      "metadata": {
        "id": "SRcmiw32-tga"
      },
      "execution_count": null,
      "outputs": []
    },
    {
      "cell_type": "markdown",
      "source": [
        ""
      ],
      "metadata": {
        "id": "LfOY4RPV_EfG"
      }
    },
    {
      "cell_type": "markdown",
      "source": [
        ""
      ],
      "metadata": {
        "id": "DZeb-s_4_GeN"
      }
    },
    {
      "cell_type": "markdown",
      "source": [
        "# ***Evaluate***"
      ],
      "metadata": {
        "id": "lhYXO0Vv-vbC"
      }
    },
    {
      "cell_type": "markdown",
      "source": [
        ""
      ],
      "metadata": {
        "id": "K0GEABO6-8aC"
      }
    },
    {
      "cell_type": "markdown",
      "source": [
        ""
      ],
      "metadata": {
        "id": "BtQcRBu1--ED"
      }
    },
    {
      "cell_type": "markdown",
      "source": [
        ""
      ],
      "metadata": {
        "id": "4WhjesCi_Jml"
      }
    },
    {
      "cell_type": "markdown",
      "source": [
        ""
      ],
      "metadata": {
        "id": "ESlP3dos_Kpw"
      }
    }
  ]
}